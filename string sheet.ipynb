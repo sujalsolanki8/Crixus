{
 "cells": [
  {
   "cell_type": "markdown",
   "id": "0ed0749d",
   "metadata": {},
   "source": [
    "SubArray \n",
    "a. contain part of array \n",
    "b.  single element of array\n",
    "c.entire array\n",
    "d. empty array\n"
   ]
  },
  {
   "cell_type": "markdown",
   "id": "e5010746",
   "metadata": {},
   "source": [
    "Q1 Vowel vs Consonant"
   ]
  },
  {
   "cell_type": "code",
   "execution_count": 13,
   "id": "11ea6ddc",
   "metadata": {},
   "outputs": [
    {
     "name": "stdout",
     "output_type": "stream",
     "text": [
      "1 3\n",
      "2 3\n"
     ]
    }
   ],
   "source": [
    "T = int(input())\n",
    "vowel =\"aeiouAEIOU\"\n",
    "Count_vl = 0\n",
    "Count_cs = 0\n",
    "for i in range(T):\n",
    "    S = input()\n",
    "    for j in S:\n",
    "        if j in vowel:\n",
    "            Count_vl += 1\n",
    "        else:\n",
    "            Count_cs += 1\n",
    "    print(Count_vl, Count_cs)\n",
    "    Count_cs=0\n",
    "    Count_vl=0"
   ]
  },
  {
   "cell_type": "markdown",
   "id": "e93f0ff1",
   "metadata": {},
   "source": [
    "2 Length od String "
   ]
  },
  {
   "cell_type": "code",
   "execution_count": 15,
   "id": "1fc5c345",
   "metadata": {},
   "outputs": [
    {
     "name": "stdout",
     "output_type": "stream",
     "text": [
      "6\n"
     ]
    }
   ],
   "source": [
    "A=input()\n",
    "print(len(A))"
   ]
  },
  {
   "cell_type": "markdown",
   "id": "e28b7f49",
   "metadata": {},
   "source": [
    "is Palindrome"
   ]
  },
  {
   "cell_type": "code",
   "execution_count": 14,
   "id": "e1529cfc",
   "metadata": {},
   "outputs": [
    {
     "name": "stdout",
     "output_type": "stream",
     "text": [
      "YES\n"
     ]
    }
   ],
   "source": [
    "S=input()\n",
    "if S==S[::-1]:\n",
    "  print(\"YES\")\n",
    "else:\n",
    "  print(\"NO\")"
   ]
  },
  {
   "cell_type": "markdown",
   "id": "d7a6e1a2",
   "metadata": {},
   "source": [
    "4 Trim (*)"
   ]
  },
  {
   "cell_type": "code",
   "execution_count": 19,
   "id": "07bd63c2",
   "metadata": {},
   "outputs": [
    {
     "name": "stdout",
     "output_type": "stream",
     "text": [
      "h*e*l*lo\n"
     ]
    }
   ],
   "source": [
    "S=input()\n",
    "S=S.strip('*')\n",
    "print(S)"
   ]
  },
  {
   "cell_type": "markdown",
   "id": "74abbef5",
   "metadata": {},
   "source": [
    "Trim left (*)"
   ]
  },
  {
   "cell_type": "code",
   "execution_count": 22,
   "id": "392729d2",
   "metadata": {},
   "outputs": [
    {
     "name": "stdout",
     "output_type": "stream",
     "text": [
      "hdsnlc*\n"
     ]
    }
   ],
   "source": [
    "S=input()\n",
    "S=S.lstrip('*')\n",
    "print(S)"
   ]
  },
  {
   "cell_type": "markdown",
   "id": "de9b49fd",
   "metadata": {},
   "source": [
    "TRim Right(*)"
   ]
  },
  {
   "cell_type": "code",
   "execution_count": 1,
   "id": "fe4778bf",
   "metadata": {},
   "outputs": [
    {
     "name": "stdout",
     "output_type": "stream",
     "text": [
      "**h*e*l*lo\n"
     ]
    }
   ],
   "source": [
    "S=input()\n",
    "S=S.rstrip('*')\n",
    "print(S)"
   ]
  },
  {
   "cell_type": "markdown",
   "id": "df3572d4",
   "metadata": {},
   "source": [
    "Reverse order"
   ]
  },
  {
   "cell_type": "code",
   "execution_count": 6,
   "id": "e6764c2d",
   "metadata": {},
   "outputs": [
    {
     "name": "stdout",
     "output_type": "stream",
     "text": [
      "gnirtS\n"
     ]
    }
   ],
   "source": [
    "A = input()\n",
    "print(A[::-1])"
   ]
  },
  {
   "cell_type": "markdown",
   "id": "70f35d95",
   "metadata": {},
   "source": [
    "Reverse the order of words "
   ]
  },
  {
   "cell_type": "code",
   "execution_count": 12,
   "id": "8758ad7d",
   "metadata": {},
   "outputs": [
    {
     "name": "stdout",
     "output_type": "stream",
     "text": [
      "chauda Suyash \n"
     ]
    }
   ],
   "source": [
    "A=input().split()\n",
    "S=\"\"\n",
    "for i in A[::-1]:\n",
    "    S+=i+\" \"\n",
    "print(S)\n"
   ]
  },
  {
   "cell_type": "markdown",
   "id": "65c89d2e",
   "metadata": {},
   "source": [
    "9 Reverse string\n"
   ]
  },
  {
   "cell_type": "code",
   "execution_count": 13,
   "id": "e41a8001",
   "metadata": {},
   "outputs": [
    {
     "name": "stdout",
     "output_type": "stream",
     "text": [
      "enoyreve revol atad ecneics \n"
     ]
    }
   ],
   "source": [
    "S=input().split()\n",
    "A=\"\"\n",
    "for i in S:\n",
    "    A+=i[::-1]+\" \"\n",
    "print(A)  "
   ]
  },
  {
   "cell_type": "markdown",
   "id": "1bb67539",
   "metadata": {},
   "source": [
    "10 to lower"
   ]
  },
  {
   "cell_type": "code",
   "execution_count": 2,
   "id": "3eb994ba",
   "metadata": {},
   "outputs": [
    {
     "name": "stdout",
     "output_type": "stream",
     "text": [
      "python\n"
     ]
    }
   ],
   "source": [
    "A=input()\n",
    "print(A.lower())"
   ]
  },
  {
   "cell_type": "markdown",
   "id": "a101a034",
   "metadata": {},
   "source": [
    "to upper"
   ]
  },
  {
   "cell_type": "code",
   "execution_count": 3,
   "id": "5bd956ff",
   "metadata": {},
   "outputs": [
    {
     "name": "stdout",
     "output_type": "stream",
     "text": [
      "PYTHON\n"
     ]
    }
   ],
   "source": [
    "A=input()\n",
    "print(A.upper())"
   ]
  },
  {
   "cell_type": "markdown",
   "id": "491ad04f",
   "metadata": {},
   "source": [
    "isalnum()"
   ]
  },
  {
   "cell_type": "code",
   "execution_count": 5,
   "id": "b43917f4",
   "metadata": {},
   "outputs": [
    {
     "name": "stdout",
     "output_type": "stream",
     "text": [
      "0\n"
     ]
    }
   ],
   "source": [
    "A=input()\n",
    "if A.isalnum():\n",
    "    print(1)\n",
    "else:\n",
    "    print(0)\n"
   ]
  },
  {
   "cell_type": "markdown",
   "id": "96b5d33b",
   "metadata": {},
   "source": [
    "isalpha()"
   ]
  },
  {
   "cell_type": "code",
   "execution_count": 8,
   "id": "2e9eb206",
   "metadata": {},
   "outputs": [
    {
     "name": "stdout",
     "output_type": "stream",
     "text": [
      "0\n"
     ]
    }
   ],
   "source": [
    "A=input()\n",
    "if A.isalpha():\n",
    "    print(1)\n",
    "else:\n",
    "    print(0)"
   ]
  },
  {
   "cell_type": "markdown",
   "id": "783b6f9f",
   "metadata": {},
   "source": [
    "First Occurrence"
   ]
  },
  {
   "cell_type": "code",
   "execution_count": null,
   "id": "9b3d3953",
   "metadata": {},
   "outputs": [
    {
     "name": "stdout",
     "output_type": "stream",
     "text": [
      "it does not exist\n"
     ]
    }
   ],
   "source": [
    "A=input()\n",
    "B=98\n",
    "ch=chr(B)\n",
    "if A.find(ch)>-1:\n",
    "    print(A.find(ch))\n",
    "else:\n",
    "    print(\"it does not exist\")\n",
    "\n"
   ]
  },
  {
   "cell_type": "markdown",
   "id": "a85c9efe",
   "metadata": {},
   "source": [
    "first occurrence of word"
   ]
  },
  {
   "cell_type": "code",
   "execution_count": null,
   "id": "0a1daf56",
   "metadata": {},
   "outputs": [
    {
     "name": "stdout",
     "output_type": "stream",
     "text": [
      "2\n"
     ]
    }
   ],
   "source": [
    "A=input()\n",
    "B=input()\n",
    "\n",
    "print(A.find(B))\n"
   ]
  },
  {
   "cell_type": "markdown",
   "id": "d9e2806b",
   "metadata": {},
   "source": [
    "count occurrences bob"
   ]
  },
  {
   "cell_type": "code",
   "execution_count": null,
   "id": "a19d736a",
   "metadata": {},
   "outputs": [],
   "source": [
    "s=input()\n",
    "n=len(s)\n",
    "c=0\n",
    "for i in range(n-1):\n",
    "    if s[i]==\"b\" and s[i+1]==\"o\" and s[i+2] == \"b\":\n",
    "        c = c+1\n",
    "print(c)"
   ]
  },
  {
   "cell_type": "markdown",
   "id": "cbf9c8e1",
   "metadata": {},
   "source": [
    "17 String Operations\n"
   ]
  },
  {
   "cell_type": "code",
   "execution_count": 3,
   "id": "4f5d9703",
   "metadata": {},
   "outputs": [
    {
     "name": "stdout",
     "output_type": "stream",
     "text": [
      "###z###z\n"
     ]
    }
   ],
   "source": [
    "A=input()\n",
    "for i in A:\n",
    "  if i.isupper():\n",
    "    A=A.replace(i,\"\")\n",
    "  elif i in \"aeiou\":\n",
    "    A=A.replace(i,\"#\")\n",
    "print(A+A)\n",
    "    "
   ]
  }
 ],
 "metadata": {
  "kernelspec": {
   "display_name": ".venv",
   "language": "python",
   "name": "python3"
  },
  "language_info": {
   "codemirror_mode": {
    "name": "ipython",
    "version": 3
   },
   "file_extension": ".py",
   "mimetype": "text/x-python",
   "name": "python",
   "nbconvert_exporter": "python",
   "pygments_lexer": "ipython3",
   "version": "3.13.2"
  }
 },
 "nbformat": 4,
 "nbformat_minor": 5
}
